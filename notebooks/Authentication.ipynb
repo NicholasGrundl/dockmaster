{
 "cells": [
  {
   "cell_type": "code",
   "execution_count": 1,
   "id": "3b48735f-9739-417f-97fb-3a3510d1c7e2",
   "metadata": {},
   "outputs": [],
   "source": [
    "%load_ext autoreload\n",
    "%autoreload 2"
   ]
  },
  {
   "cell_type": "code",
   "execution_count": null,
   "id": "45cd9e1b",
   "metadata": {},
   "outputs": [],
   "source": [
    "from dockmaster import configuration\n",
    "config = configuration.GoogleOAuth2Settings()"
   ]
  },
  {
   "cell_type": "code",
   "execution_count": 8,
   "id": "d8b02cc9-1c91-4e3b-9cd4-420fd3a86262",
   "metadata": {},
   "outputs": [],
   "source": [
    "#@ OAuth2 settings\n",
    "client_id = config.client_id\n",
    "client_secret = config.client_secret\n",
    "scope = config.scopes\n",
    "\n",
    "# using httpx implementation\n",
    "from authlib.integrations.httpx_client import AsyncOAuth2Client\n",
    "client = AsyncOAuth2Client(\n",
    "    client_id, \n",
    "    client_secret, \n",
    "    scope=scope,\n",
    "    redirect_uri=None\n",
    ")"
   ]
  },
  {
   "cell_type": "code",
   "execution_count": null,
   "id": "c19c033b",
   "metadata": {},
   "outputs": [],
   "source": [
    "authorization_endpoint = 'https://accounts.google.com/o/oauth2/auth'\n",
    "uri, state = client.create_authorization_url(authorization_endpoint)\n",
    "print(uri)\n",
    "#save state in session for later\n",
    "\n"
   ]
  },
  {
   "cell_type": "code",
   "execution_count": null,
   "id": "9f079b50",
   "metadata": {},
   "outputs": [],
   "source": [
    "#call with redirect returns a code\n",
    "authorization_response = 'https://example.com/github?code=42..e9&state=d..t'\n",
    "token_endpoint = 'https://oauth2.googleapis.com/token'\n",
    "token = await client.fetch_token(token_endpoint, authorization_response=authorization_response)\n",
    "print(token)"
   ]
  },
  {
   "cell_type": "code",
   "execution_count": null,
   "metadata": {},
   "outputs": [],
   "source": []
  },
  {
   "cell_type": "code",
   "execution_count": null,
   "metadata": {},
   "outputs": [],
   "source": []
  },
  {
   "cell_type": "code",
   "execution_count": null,
   "metadata": {},
   "outputs": [],
   "source": []
  },
  {
   "cell_type": "code",
   "execution_count": null,
   "metadata": {},
   "outputs": [],
   "source": []
  },
  {
   "cell_type": "code",
   "execution_count": null,
   "metadata": {},
   "outputs": [],
   "source": []
  },
  {
   "cell_type": "code",
   "execution_count": null,
   "id": "17264f69",
   "metadata": {},
   "outputs": [],
   "source": []
  },
  {
   "cell_type": "code",
   "execution_count": null,
   "id": "1b1d378f",
   "metadata": {},
   "outputs": [],
   "source": []
  },
  {
   "cell_type": "code",
   "execution_count": null,
   "id": "93e89928",
   "metadata": {},
   "outputs": [],
   "source": []
  },
  {
   "cell_type": "code",
   "execution_count": null,
   "id": "c4898c45",
   "metadata": {},
   "outputs": [],
   "source": []
  },
  {
   "cell_type": "code",
   "execution_count": 16,
   "id": "dc8f22eb-20c0-4057-89e0-2cbe754d56a6",
   "metadata": {},
   "outputs": [
    {
     "data": {
      "text/plain": [
       "{'iss': 'https://accounts.google.com',\n",
       " 'azp': '103999402146-hr1lj72kcib0iit3fvqtd0h26b05jld8.apps.googleusercontent.com',\n",
       " 'aud': '103999402146-hr1lj72kcib0iit3fvqtd0h26b05jld8.apps.googleusercontent.com',\n",
       " 'sub': '110919508597938107090',\n",
       " 'email': 'nicholasgrundl@gmail.com',\n",
       " 'email_verified': True,\n",
       " 'at_hash': '_P4RGKSdTsuyOBXdX6FSOw',\n",
       " 'nonce': 'ea0f07d6-ad63-42c6-b75b-2e90c81c48d0',\n",
       " 'name': 'nicholas grundl',\n",
       " 'picture': 'https://lh3.googleusercontent.com/a/ACg8ocLewaBg1FnPe4S19iCyAKcqgR3bJyeh9FyMT_8QMZF5V5ARXQ=s96-c',\n",
       " 'given_name': 'nicholas',\n",
       " 'family_name': 'grundl',\n",
       " 'iat': 1713894004,\n",
       " 'exp': 1713897604}"
      ]
     },
     "execution_count": 16,
     "metadata": {},
     "output_type": "execute_result"
    }
   ],
   "source": [
    "from google.auth import jwt\n",
    "id_token = \"eyJhbGciOiJSUzI1NiIsImtpZCI6IjZjZTExYWVjZjllYjE0MDI0YTQ0YmJmZDFiY2Y4YjMyYTEyMjg3ZmEiLCJ0eXAiOiJKV1QifQ.eyJpc3MiOiJodHRwczovL2FjY291bnRzLmdvb2dsZS5jb20iLCJhenAiOiIxMDM5OTk0MDIxNDYtaHIxbGo3MmtjaWIwaWl0M2Z2cXRkMGgyNmIwNWpsZDguYXBwcy5nb29nbGV1c2VyY29udGVudC5jb20iLCJhdWQiOiIxMDM5OTk0MDIxNDYtaHIxbGo3MmtjaWIwaWl0M2Z2cXRkMGgyNmIwNWpsZDguYXBwcy5nb29nbGV1c2VyY29udGVudC5jb20iLCJzdWIiOiIxMTA5MTk1MDg1OTc5MzgxMDcwOTAiLCJlbWFpbCI6Im5pY2hvbGFzZ3J1bmRsQGdtYWlsLmNvbSIsImVtYWlsX3ZlcmlmaWVkIjp0cnVlLCJhdF9oYXNoIjoiX1A0UkdLU2RUc3V5T0JYZFg2RlNPdyIsIm5vbmNlIjoiZWEwZjA3ZDYtYWQ2My00MmM2LWI3NWItMmU5MGM4MWM0OGQwIiwibmFtZSI6Im5pY2hvbGFzIGdydW5kbCIsInBpY3R1cmUiOiJodHRwczovL2xoMy5nb29nbGV1c2VyY29udGVudC5jb20vYS9BQ2c4b2NMZXdhQmcxRm5QZTRTMTlpQ3lBS2NxZ1IzYkp5ZWg5RnlNVF84UU1aRjVWNUFSWFE9czk2LWMiLCJnaXZlbl9uYW1lIjoibmljaG9sYXMiLCJmYW1pbHlfbmFtZSI6ImdydW5kbCIsImlhdCI6MTcxMzg5NDAwNCwiZXhwIjoxNzEzODk3NjA0fQ.nDgzH5DCMBR8TVXLAIAcQOHaS1loYOwC1rPTXEQ6p0yyfhMuUDCZMuM4gBW8PJ0l6Tdmf0tboZc0JEgail-A7cqAkk3799_g6vA8kdN-Eqq2uMf60YIOeUqL0_ubBzvNzPipTNld8QJak4H45W0oqITyHH8FI2U5WctTpfBQO3lklFKgBYOGhNp7JnR_MJfWCzZS6K9JheIHAmQhpLc0l2EDv_uODgozkXApjTfPrL1NhPBS1fwnAXeR3nPX6Qx2ffycQjCRUW4pUsh7Y44_XbOmfOp1HPrEXhe7PJTILnBlVhXguwYpNsRl4Lhgj1l6gwm3di6itUHYcdiqjUvhJg\"\n",
    "claims = jwt.decode(id_token, verify=False)\n",
    "claims"
   ]
  },
  {
   "cell_type": "code",
   "execution_count": 28,
   "id": "2aeaae59-51cf-4956-8495-ddabf7f44e9e",
   "metadata": {},
   "outputs": [
    {
     "data": {
      "text/plain": [
       "{'iss': 'https://accounts.google.com',\n",
       " 'azp': '103999402146-hr1lj72kcib0iit3fvqtd0h26b05jld8.apps.googleusercontent.com',\n",
       " 'aud': '103999402146-hr1lj72kcib0iit3fvqtd0h26b05jld8.apps.googleusercontent.com',\n",
       " 'sub': '110919508597938107090',\n",
       " 'email': 'nicholasgrundl@gmail.com',\n",
       " 'email_verified': True,\n",
       " 'at_hash': '_P4RGKSdTsuyOBXdX6FSOw',\n",
       " 'nonce': 'ea0f07d6-ad63-42c6-b75b-2e90c81c48d0',\n",
       " 'name': 'nicholas grundl',\n",
       " 'picture': 'https://lh3.googleusercontent.com/a/ACg8ocLewaBg1FnPe4S19iCyAKcqgR3bJyeh9FyMT_8QMZF5V5ARXQ=s96-c',\n",
       " 'given_name': 'nicholas',\n",
       " 'family_name': 'grundl',\n",
       " 'iat': 1713894004,\n",
       " 'exp': 1713897604}"
      ]
     },
     "execution_count": 28,
     "metadata": {},
     "output_type": "execute_result"
    }
   ],
   "source": [
    "from google.oauth2.id_token import verify_oauth2_token\n",
    "from google.auth.transport import requests\n",
    "\n",
    "client_id = '103999402146-hr1lj72kcib0iit3fvqtd0h26b05jld8.apps.googleusercontent.com'\n",
    "idinfo = verify_oauth2_token(id_token=id_token, request=requests.Request(), audience=client_id, clock_skew_in_seconds=0)\n",
    "idinfo"
   ]
  },
  {
   "cell_type": "code",
   "execution_count": null,
   "id": "72a81dfe-4c2a-44d4-8333-7f8760e5c2a3",
   "metadata": {},
   "outputs": [],
   "source": []
  },
  {
   "cell_type": "code",
   "execution_count": 13,
   "id": "24dc850b-1225-4e6a-bc6d-767724d1a6a8",
   "metadata": {},
   "outputs": [
    {
     "name": "stdout",
     "output_type": "stream",
     "text": [
      "client_id=CLIENT_ID&redirect_uri=https%3A%2F%2Flalalala&response_type=code&scope=openid+email+profile&state=33333333\n",
      "client_id=CLIENT_ID&prompt=select_account&response_type=code&scope=openid%20email%20profile&redirect_uri=https%3A//lalalala&state=33333333\n"
     ]
    }
   ],
   "source": [
    "import requests\n",
    "from urllib.parse import urlencode\n",
    "from urllib.parse import quote as uriencode, unquote_plus\n",
    "\n",
    "qs = urlencode({\n",
    "    'client_id': 'CLIENT_ID',\n",
    "    'redirect_uri': 'https://lalalala',\n",
    "    'response_type': 'code',\n",
    "    'scope': ' '.join(['openid','email','profile']),\n",
    "    'state': '33333333',\n",
    "})\n",
    "print(qs)\n",
    "qs_2 = 'client_id=' + 'CLIENT_ID' + \\\n",
    "      '&prompt=select_account' + \\\n",
    "      '&response_type=code' + \\\n",
    "      '&scope=openid%20email%20profile' + \\\n",
    "      '&redirect_uri='+uriencode('https://lalalala') + \\\n",
    "      '&state='+'33333333'\n",
    "print(qs_2)"
   ]
  },
  {
   "cell_type": "code",
   "execution_count": 15,
   "id": "5b04a07c-36b0-4564-9a16-82912ba91e70",
   "metadata": {},
   "outputs": [
    {
     "data": {
      "text/plain": [
       "'scope=openid+email+profile'"
      ]
     },
     "execution_count": 15,
     "metadata": {},
     "output_type": "execute_result"
    }
   ],
   "source": [
    "urlencode({'scope': 'openid email profile'})"
   ]
  },
  {
   "cell_type": "code",
   "execution_count": 16,
   "id": "78cd5af4-e92c-4013-818f-7a82f02e2091",
   "metadata": {},
   "outputs": [
    {
     "data": {
      "text/plain": [
       "'openid%20email%20profile'"
      ]
     },
     "execution_count": 16,
     "metadata": {},
     "output_type": "execute_result"
    }
   ],
   "source": [
    "uriencode('openid email profile')"
   ]
  }
 ],
 "metadata": {
  "kernelspec": {
   "display_name": "digital_ocean",
   "language": "python",
   "name": "python3"
  },
  "language_info": {
   "codemirror_mode": {
    "name": "ipython",
    "version": 3
   },
   "file_extension": ".py",
   "mimetype": "text/x-python",
   "name": "python",
   "nbconvert_exporter": "python",
   "pygments_lexer": "ipython3",
   "version": "3.10.14"
  }
 },
 "nbformat": 4,
 "nbformat_minor": 5
}
